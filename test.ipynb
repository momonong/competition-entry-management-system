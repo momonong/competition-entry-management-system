{
 "cells": [
  {
   "cell_type": "code",
   "execution_count": 1,
   "metadata": {},
   "outputs": [],
   "source": [
    "import pandas as pd"
   ]
  },
  {
   "cell_type": "code",
   "execution_count": 18,
   "metadata": {},
   "outputs": [
    {
     "data": {
      "text/html": [
       "<div>\n",
       "<style scoped>\n",
       "    .dataframe tbody tr th:only-of-type {\n",
       "        vertical-align: middle;\n",
       "    }\n",
       "\n",
       "    .dataframe tbody tr th {\n",
       "        vertical-align: top;\n",
       "    }\n",
       "\n",
       "    .dataframe thead th {\n",
       "        text-align: right;\n",
       "    }\n",
       "</style>\n",
       "<table border=\"1\" class=\"dataframe\">\n",
       "  <thead>\n",
       "    <tr style=\"text-align: right;\">\n",
       "      <th></th>\n",
       "      <th>校名</th>\n",
       "      <th>姓名</th>\n",
       "      <th>email</th>\n",
       "      <th>tel</th>\n",
       "      <th>背號</th>\n",
       "    </tr>\n",
       "  </thead>\n",
       "  <tbody>\n",
       "    <tr>\n",
       "      <th>0</th>\n",
       "      <td>國立成功大學</td>\n",
       "      <td>王淑婷</td>\n",
       "      <td>morrischen2.10@gmail.com</td>\n",
       "      <td>965425240</td>\n",
       "      <td>100</td>\n",
       "    </tr>\n",
       "    <tr>\n",
       "      <th>1</th>\n",
       "      <td>國立成功大學</td>\n",
       "      <td>陳鎮濃</td>\n",
       "      <td>morrischen2.11@gmail.com</td>\n",
       "      <td>965425241</td>\n",
       "      <td>101</td>\n",
       "    </tr>\n",
       "  </tbody>\n",
       "</table>\n",
       "</div>"
      ],
      "text/plain": [
       "       校名   姓名                     email        tel   背號\n",
       "0  國立成功大學  王淑婷  morrischen2.10@gmail.com  965425240  100\n",
       "1  國立成功大學  陳鎮濃  morrischen2.11@gmail.com  965425241  101"
      ]
     },
     "execution_count": 18,
     "metadata": {},
     "output_type": "execute_result"
    }
   ],
   "source": [
    "df = pd.read_excel('template.xlsx')\n",
    "df = df.drop(['Unnamed: 0','學生證', '身份證', '在學證明'], axis=1)\n",
    "df = df.fillna('')\n",
    "df"
   ]
  },
  {
   "cell_type": "code",
   "execution_count": 19,
   "metadata": {},
   "outputs": [
    {
     "data": {
      "text/plain": [
       "2"
      ]
     },
     "execution_count": 19,
     "metadata": {},
     "output_type": "execute_result"
    }
   ],
   "source": [
    "df.shape[0]"
   ]
  },
  {
   "cell_type": "code",
   "execution_count": 20,
   "metadata": {},
   "outputs": [
    {
     "name": "stdout",
     "output_type": "stream",
     "text": [
      "國立成功大學\n",
      "王淑婷\n",
      "morrischen2.10@gmail.com\n",
      "965425240\n",
      "100\n",
      "國立成功大學\n",
      "陳鎮濃\n",
      "morrischen2.11@gmail.com\n",
      "965425241\n",
      "101\n"
     ]
    }
   ],
   "source": [
    "for i in range(df.shape[0]):\n",
    "    for data in df:\n",
    "        print(df.loc[i, data])\n"
   ]
  },
  {
   "cell_type": "code",
   "execution_count": null,
   "metadata": {},
   "outputs": [],
   "source": []
  }
 ],
 "metadata": {
  "kernelspec": {
   "display_name": "sport",
   "language": "python",
   "name": "python3"
  },
  "language_info": {
   "codemirror_mode": {
    "name": "ipython",
    "version": 3
   },
   "file_extension": ".py",
   "mimetype": "text/x-python",
   "name": "python",
   "nbconvert_exporter": "python",
   "pygments_lexer": "ipython3",
   "version": "3.8.8"
  },
  "orig_nbformat": 4
 },
 "nbformat": 4,
 "nbformat_minor": 2
}
